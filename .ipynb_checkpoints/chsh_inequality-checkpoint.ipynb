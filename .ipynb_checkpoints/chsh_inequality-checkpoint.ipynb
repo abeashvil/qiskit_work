{
 "cells": [
  {
   "cell_type": "code",
   "execution_count": 1,
   "id": "9c0224c3-5ed0-42a1-9bf2-afdc99c8de16",
   "metadata": {},
   "outputs": [
    {
     "data": {
      "text/plain": [
       "'ibm_brisbane'"
      ]
     },
     "execution_count": 1,
     "metadata": {},
     "output_type": "execute_result"
    }
   ],
   "source": [
    "# General\n",
    "import numpy as np\n",
    "\n",
    "# Qiskit imports\n",
    "from qiskit import QuantumCircuit\n",
    "from qiskit.circuit import Parameter\n",
    "from qiskit.quantum_info import SparsePauliOp\n",
    "\n",
    "# Qiskit Runtime imports\n",
    "from qiskit_ibm_runtime import QiskitRuntimeService\n",
    "from qiskit_ibm_runtime import EstimatorV2 as Estimator\n",
    "\n",
    "# Plotting routines\n",
    "import matplotlib.pyplot as plt\n",
    "import matplotlib.ticker as tck\n",
    "\n",
    "# To run on hardware, select the backend with the fewest number of jobs in the queue\n",
    "service = QiskitRuntimeService(channel=\"ibm_quantum\")\n",
    "backend = service.least_busy(operational=True, simulator=False, min_num_qubits=127)\n",
    "backend.name"
   ]
  },
  {
   "cell_type": "code",
   "execution_count": 3,
   "id": "b2ece52c-13fd-4836-923f-ac476f2a3122",
   "metadata": {},
   "outputs": [
    {
     "data": {
      "image/png": "[encoded data removed]",
      "text/plain": [
       "<Figure size 370.906x200.667 with 1 Axes>"
      ]
     },
     "execution_count": 3,
     "metadata": {},
     "output_type": "execute_result"
    }
   ],
   "source": [
    "theta = Parameter(\"$\\\\theta$\")\n",
    "\n",
    "chsh_circuit = QuantumCircuit(2)\n",
    "chsh_circuit.h(0)\n",
    "chsh_circuit.cx(0, 1)\n",
    "chsh_circuit.ry(theta, 0)\n",
    "chsh_circuit.draw(output=\"mpl\", idle_wires=False, style=\"iqp\")"
   ]
  },
  {
   "cell_type": "code",
   "execution_count": 4,
   "id": "3d10e76e-de20-4769-8247-4a24236c510e",
   "metadata": {},
   "outputs": [],
   "source": [
    "number_of_phases = 21\n",
    "phases = np.linspace(0, 2 * np.pi, number_of_phases)\n",
    "# Phases need to be expressed as list of lists in order to work\n",
    "individual_phases = [[ph] for ph in phases]"
   ]
  },
  {
   "cell_type": "code",
   "execution_count": 9,
   "id": "86dba16e-5f32-42ef-ba38-f64b4889a907",
   "metadata": {},
   "outputs": [],
   "source": [
    "number_of_phases = 21\n",
    "phases = np.linspace(0, 2 * np.pi, number_of_phases)\n",
    "# Phases need to be expressed as list of lists in order to work\n",
    "individual_phases = [[ph] for ph in phases]\n",
    "\n",
    "# <CHSH1> = <AB> - <Ab> + <aB> + <ab> -> <ZZ> - <ZX> + <XZ> + <XX>\n",
    "observable1 = SparsePauliOp.from_list([(\"ZZ\", 1), (\"ZX\", -1), (\"XZ\", 1), (\"XX\", 1)])\n",
    "\n",
    "# <CHSH2> = <AB> + <Ab> - <aB> + <ab> -> <ZZ> + <ZX> - <XZ> + <XX>\n",
    "observable2 = SparsePauliOp.from_list([(\"ZZ\", 1), (\"ZX\", 1), (\"XZ\", -1), (\"XX\", 1)])"
   ]
  },
  {
   "cell_type": "code",
   "execution_count": 10,
   "id": "7b562265-5e7b-4207-af0b-2637aed13831",
   "metadata": {},
   "outputs": [
    {
     "data": {
      "image/png": "[encoded data removed]",
      "text/plain": [
       "<Figure size 1259.5x200.667 with 1 Axes>"
      ]
     },
     "execution_count": 10,
     "metadata": {},
     "output_type": "execute_result"
    }
   ],
   "source": [
    "from qiskit.transpiler.preset_passmanagers import generate_preset_pass_manager\n",
    "\n",
    "target = backend.target\n",
    "pm = generate_preset_pass_manager(target=target, optimization_level=3)\n",
    "\n",
    "chsh_isa_circuit = pm.run(chsh_circuit)\n",
    "chsh_isa_circuit.draw(output=\"mpl\", idle_wires=False, style=\"iqp\")"
   ]
  },
  {
   "cell_type": "code",
   "execution_count": 11,
   "id": "2d9bdffd-562b-4dfc-bd7d-d9397a09412c",
   "metadata": {},
   "outputs": [],
   "source": [
    "isa_observable1 = observable1.apply_layout(layout=chsh_isa_circuit.layout)\n",
    "isa_observable2 = observable2.apply_layout(layout=chsh_isa_circuit.layout)"
   ]
  },
  {
   "cell_type": "code",
   "execution_count": null,
   "id": "60178259-2bd4-4784-8925-bb3b7d03c7bf",
   "metadata": {},
   "outputs": [],
   "source": [
    "# To run on a local simulator:\n",
    "# Use the StatevectorEstimator from qiskit.primitives instead.\n",
    "\n",
    "estimator = Estimator(mode=backend)\n",
    "\n",
    "pub = (\n",
    "    chsh_isa_circuit,  # ISA circuit\n",
    "    [[isa_observable1], [isa_observable2]],  # ISA Observables\n",
    "    individual_phases,  # Parameter values\n",
    ")\n",
    "\n",
    "job_result = estimator.run(pubs=[pub]).result()"
   ]
  },
  {
   "cell_type": "code",
   "execution_count": null,
   "id": "c27ece19-a581-4104-b719-ed394ae38d57",
   "metadata": {},
   "outputs": [],
   "source": [
    "chsh1_est = job_result[0].data.evs[0]\n",
    "chsh2_est = job_result[0].data.evs[1]\n",
    "\n",
    "fig, ax = plt.subplots(figsize=(10, 6))\n",
    "\n",
    "# results from hardware\n",
    "ax.plot(phases / np.pi, chsh1_est, \"o-\", label=\"CHSH1\", zorder=3)\n",
    "ax.plot(phases / np.pi, chsh2_est, \"o-\", label=\"CHSH2\", zorder=3)\n",
    "\n",
    "# classical bound +-2\n",
    "ax.axhline(y=2, color=\"0.9\", linestyle=\"--\")\n",
    "ax.axhline(y=-2, color=\"0.9\", linestyle=\"--\")\n",
    "\n",
    "# quantum bound, +-2√2\n",
    "ax.axhline(y=np.sqrt(2) * 2, color=\"0.9\", linestyle=\"-.\")\n",
    "ax.axhline(y=-np.sqrt(2) * 2, color=\"0.9\", linestyle=\"-.\")\n",
    "ax.fill_between(phases / np.pi, 2, 2 * np.sqrt(2), color=\"0.6\", alpha=0.7)\n",
    "ax.fill_between(phases / np.pi, -2, -2 * np.sqrt(2), color=\"0.6\", alpha=0.7)\n",
    "\n",
    "# set x tick labels to the unit of pi\n",
    "ax.xaxis.set_major_formatter(tck.FormatStrFormatter(\"%g $\\\\pi$\"))\n",
    "ax.xaxis.set_major_locator(tck.MultipleLocator(base=0.5))\n",
    "\n",
    "# set labels, and legend\n",
    "plt.xlabel(\"Theta\")\n",
    "plt.ylabel(\"CHSH witness\")\n",
    "plt.legend()\n",
    "plt.show()"
   ]
  },
  {
   "cell_type": "code",
   "execution_count": null,
   "id": "3f6a0377-a5b0-42ef-a8b7-a20bfb0eced9",
   "metadata": {},
   "outputs": [],
   "source": []
  }
 ],
 "metadata": {
  "kernelspec": {
   "display_name": "Python 3 (ipykernel)",
   "language": "python",
   "name": "python3"
  },
  "language_info": {
   "codemirror_mode": {
    "name": "ipython",
    "version": 3
   },
   "file_extension": ".py",
   "mimetype": "text/x-python",
   "name": "python",
   "nbconvert_exporter": "python",
   "pygments_lexer": "ipython3",
   "version": "3.13.0"
  }
 },
 "nbformat": 4,
 "nbformat_minor": 5
}
