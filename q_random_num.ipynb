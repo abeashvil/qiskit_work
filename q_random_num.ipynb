{
 "cells": [
  {
   "cell_type": "code",
   "execution_count": 3,
   "id": "2dab705d-b85c-4494-ab9a-a892c43c09cf",
   "metadata": {},
   "outputs": [],
   "source": [
    "from qiskit import QuantumRegister, ClassicalRegister, QuantumCircuit\n",
    "from qiskit_ibm_runtime import EstimatorV2 as Estimator\n",
    "from qiskit_ibm_runtime import QiskitRuntimeService, SamplerV2 as Sampler\n",
    "from qiskit_aer import AerSimulator\n",
    
    "# Load saved credentials\n",
    "service = QiskitRuntimeService()\n"
   ]
  },
  {
   "cell_type": "code",
   "execution_count": 23,
   "id": "cd9722a3-6754-4fcb-bcfb-50288bbe8eb9",
   "metadata": {},
   "outputs": [
    {
     "name": "stdout",
     "output_type": "stream",
     "text": [
      "{'0001000101001101': 1}\n",
      "4429\n"
     ]
    }
   ],
   "source": [
    "#creating a quantum circuit containing the qubits and classical bits.\n",
    "qubit = QuantumRegister(16, \"Q\")\n",
    "classical = ClassicalRegister(16, \"C\")\n",
    "circuit = QuantumCircuit(qubit, classical)\n",
    "#applying the hadamard gate to all qubits in order to put them in a superposition state\n",
    "circuit.h(range(16))\n",
    "#measuring all the qubits, and storing the results within the classical bits we made\n",
    "circuit.measure(qubit, classical) \n",
    "\n",
    "#running the simulator and getting the results\n",
    "result = AerSimulator().run(circuit, shots=1).result()\n",
    "counts = result.get_counts()\n",
    "\n",
    "print(counts)\n",
    "\n",
    "binary = \"\"\n",
    "for key in counts:\n",
    "    binary = key\n",
    "\n",
    "print(int(binary, 2))\n",
    "\n",
    "\n",
    "\n",
    "                               \n",
    "                 "
   ]
  }
 ],
 "metadata": {
  "kernelspec": {
   "display_name": "Python 3 (ipykernel)",
   "language": "python",
   "name": "python3"
  },
  "language_info": {
   "codemirror_mode": {
    "name": "ipython",
    "version": 3
   },
   "file_extension": ".py",
   "mimetype": "text/x-python",
   "name": "python",
   "nbconvert_exporter": "python",
   "pygments_lexer": "ipython3",
   "version": "3.13.0"
  }
 },
 "nbformat": 4,
 "nbformat_minor": 5
}
